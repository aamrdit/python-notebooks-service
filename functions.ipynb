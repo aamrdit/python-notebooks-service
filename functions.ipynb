{
 "cells": [
  {
   "cell_type": "code",
   "execution_count": 7,
   "id": "b5c3ce48",
   "metadata": {},
   "outputs": [
    {
     "name": "stdout",
     "output_type": "stream",
     "text": [
      "Global Variable: 1\n",
      "Local Variable: 2\n",
      "Coerced Global: 3\n"
     ]
    }
   ],
   "source": [
    "#Scope\n",
    "\n",
    "global_var = 1\n",
    "\n",
    "def my_var() :\n",
    "    print('Global Variable:',global_var)\n",
    "    \n",
    "    local_var = 2\n",
    "    print('Local Variable:',local_var)\n",
    "    \n",
    "    # Global variable and a local variable have the same name\n",
    "   # global_var = 3\n",
    "   # print('Same Variable:', global_var)\n",
    "    \n",
    "    global inner_var\n",
    "    inner_var = 3\n",
    "    \n",
    "    \n",
    "\n",
    "\n",
    "    \n",
    "my_var()\n",
    "\n",
    "print('Coerced Global:',inner_var)"
   ]
  },
  {
   "cell_type": "code",
   "execution_count": 16,
   "id": "795928e3",
   "metadata": {},
   "outputs": [
    {
     "name": "stdout",
     "output_type": "stream",
     "text": [
      "User: Mike Lang: Python Platform Windows\n",
      "User: Anne Lang: Python Platform Mac OS\n",
      "\n",
      "User: Aamir Language: Python\n",
      "\n",
      "User: Aamir Language: C#\n",
      "\n",
      "User: Butt Language: Python\n",
      "\n",
      "User: Aayan Language: ML\n"
     ]
    }
   ],
   "source": [
    "# Suppling arguments\n",
    "\n",
    "def echo(user,lang,sys) :\n",
    "    print('User:',user, 'Lang:',lang, 'Platform', sys)\n",
    "    \n",
    "    \n",
    "echo('Mike','Python','Windows')\n",
    "\n",
    "echo(lang='Python',sys='Mac OS', user='Anne')\n",
    "\n",
    "def mirror(user='Aamir', lang='Python') :\n",
    "    print('\\nUser:',user, 'Language:',lang)\n",
    "    \n",
    "mirror()\n",
    "mirror(lang='C#')\n",
    "mirror(user='Butt')\n",
    "mirror('Aayan','ML')"
   ]
  },
  {
   "cell_type": "code",
   "execution_count": 19,
   "id": "94dcbfe0",
   "metadata": {},
   "outputs": [
    {
     "name": "stdout",
     "output_type": "stream",
     "text": [
      "Enter an Integerf\n",
      "f Squared is: Invalid Entry\n"
     ]
    }
   ],
   "source": [
    "# Returning values\n",
    "\n",
    "num = input('Enter an Integer')\n",
    "\n",
    "\n",
    "def square(num) :\n",
    "    if not num.isdigit() :\n",
    "        return 'Invalid Entry'\n",
    "    \n",
    "    num = int(num)\n",
    "    return num*num\n",
    "\n",
    "\n",
    "print(num, 'Squared is:', square(num))"
   ]
  },
  {
   "cell_type": "code",
   "execution_count": 23,
   "id": "9c249e82",
   "metadata": {},
   "outputs": [
    {
     "name": "stdout",
     "output_type": "stream",
     "text": [
      "\n",
      "Named Functions:\n",
      "Result: 9\n",
      "Result: 27\n",
      "Result: 81\n",
      "\n",
      "Anonymous Functions:\n",
      "Result: 9\n",
      "Result: 27\n",
      "Result: 81\n"
     ]
    }
   ],
   "source": [
    "# Using callbacks\n",
    "\n",
    "def function_1(x) : return x**2\n",
    "def function_2(x) : return x**3\n",
    "def function_3(x) : return x**4\n",
    "\n",
    "\n",
    "callbacks = [function_1,function_2,function_3]\n",
    "\n",
    "print('\\nNamed Functions:')\n",
    "for function in callbacks :\n",
    "    print('Result:', function(3))\n",
    "    \n",
    "    \n",
    "callbacks = [lambda x: x**2, lambda x: x**3, lambda x: x**4]\n",
    "\n",
    "print('\\nAnonymous Functions:')\n",
    "for function in callbacks :\n",
    "    print('Result:',function(3))"
   ]
  },
  {
   "cell_type": "code",
   "execution_count": 28,
   "id": "38a32374",
   "metadata": {},
   "outputs": [
    {
     "name": "stdout",
     "output_type": "stream",
     "text": [
      "Python in easy steps\n",
      "\n",
      " P y t h o n   i n   e a s y   s t e p s \n",
      " \n",
      " P * t h o n   i n   e a s *   s t e p s \n",
      " \n",
      " P * y t h o n   i n   e a s * y   s t e p s \n",
      " "
     ]
    }
   ],
   "source": [
    "# Adding placeholders\n",
    "\n",
    "bool = True\n",
    "\n",
    "if bool :\n",
    "    print('Python in easy steps')\n",
    "else:\n",
    "    pass\n",
    "\n",
    "title = '\\nPython in easy steps\\n'\n",
    "\n",
    "for char in title :\n",
    "    print(char, end= ' ')\n",
    "    \n",
    "    \n",
    "for char in title :\n",
    "    if char == 'y' :\n",
    "        print('*', end=' ')\n",
    "        continue\n",
    "    print(char, end= ' ')\n",
    "    \n",
    "    \n",
    "for char in title :\n",
    "    if char == 'y' :\n",
    "        print('*', end = ' ')\n",
    "        pass\n",
    "    print(char, end = ' ')\n"
   ]
  },
  {
   "cell_type": "code",
   "execution_count": 31,
   "id": "beb3901b",
   "metadata": {},
   "outputs": [
    {
     "name": "stdout",
     "output_type": "stream",
     "text": [
      "Generated:  1\n",
      "Generated:  1\n",
      "Generated:  2\n",
      "Generated:  3\n",
      "Generated:  5\n",
      "Generated:  8\n",
      "Generated:  13\n",
      "Generated:  21\n",
      "Generated:  34\n",
      "Generated:  55\n",
      "Generated:  89\n"
     ]
    }
   ],
   "source": [
    "# Producing generators\n",
    "\n",
    "# retains the state of the function when it eas last called\n",
    "\n",
    "\n",
    "def fibonacci_generator() :\n",
    "    a = b = 1\n",
    "    while True :\n",
    "        yield a\n",
    "        a,b = b, a+b\n",
    "        \n",
    "\n",
    "fib = fibonacci_generator()\n",
    "\n",
    "for i in fib :\n",
    "    if i > 100 :\n",
    "        break\n",
    "    else :\n",
    "        print('Generated: ', i)"
   ]
  },
  {
   "cell_type": "code",
   "execution_count": 32,
   "id": "654c3507",
   "metadata": {},
   "outputs": [
    {
     "name": "stdout",
     "output_type": "stream",
     "text": [
      "The program found An Invalid Day Number\n",
      "But Today is Beautiful Anyway.\n"
     ]
    }
   ],
   "source": [
    "# Handling exceptions\n",
    "\n",
    "day = 32\n",
    "\n",
    "try :\n",
    "    if day > 31 :\n",
    "        raise ValueError('Invalid Day Number')\n",
    "        \n",
    "except ValueError as msg :\n",
    "    print('The program found An', msg)\n",
    "    \n",
    "finally :\n",
    "    print('But Today is Beautiful Anyway.')"
   ]
  },
  {
   "cell_type": "code",
   "execution_count": 36,
   "id": "bddea8d1",
   "metadata": {},
   "outputs": [
    {
     "name": "stdout",
     "output_type": "stream",
     "text": [
      "List Element 4 = Epsilon\n",
      "List Element 1 = Beta\n"
     ]
    },
    {
     "ename": "AssertionError",
     "evalue": "Argument Must be Integer!",
     "output_type": "error",
     "traceback": [
      "\u001b[1;31m---------------------------------------------------------------------------\u001b[0m",
      "\u001b[1;31mAssertionError\u001b[0m                            Traceback (most recent call last)",
      "\u001b[1;32m~\\AppData\\Local\\Temp/ipykernel_9876/651695048.py\u001b[0m in \u001b[0;36m<module>\u001b[1;34m\u001b[0m\n\u001b[0;32m     16\u001b[0m \u001b[1;33m\u001b[0m\u001b[0m\n\u001b[0;32m     17\u001b[0m \u001b[0melem\u001b[0m \u001b[1;33m=\u001b[0m \u001b[0melem\u001b[0m\u001b[1;33m/\u001b[0m\u001b[1;36m2\u001b[0m\u001b[1;33m\u001b[0m\u001b[1;33m\u001b[0m\u001b[0m\n\u001b[1;32m---> 18\u001b[1;33m \u001b[0mdisplay\u001b[0m\u001b[1;33m(\u001b[0m\u001b[0melem\u001b[0m\u001b[1;33m)\u001b[0m\u001b[1;33m\u001b[0m\u001b[1;33m\u001b[0m\u001b[0m\n\u001b[0m",
      "\u001b[1;32m~\\AppData\\Local\\Temp/ipykernel_9876/651695048.py\u001b[0m in \u001b[0;36mdisplay\u001b[1;34m(elem)\u001b[0m\n\u001b[0;32m      5\u001b[0m \u001b[1;32mdef\u001b[0m \u001b[0mdisplay\u001b[0m\u001b[1;33m(\u001b[0m\u001b[0melem\u001b[0m\u001b[1;33m)\u001b[0m \u001b[1;33m:\u001b[0m\u001b[1;33m\u001b[0m\u001b[1;33m\u001b[0m\u001b[0m\n\u001b[0;32m      6\u001b[0m \u001b[1;33m\u001b[0m\u001b[0m\n\u001b[1;32m----> 7\u001b[1;33m     \u001b[1;32massert\u001b[0m \u001b[0mtype\u001b[0m\u001b[1;33m(\u001b[0m\u001b[0melem\u001b[0m\u001b[1;33m)\u001b[0m \u001b[1;32mis\u001b[0m \u001b[0mint\u001b[0m\u001b[1;33m,\u001b[0m \u001b[1;34m'Argument Must be Integer!'\u001b[0m\u001b[1;33m\u001b[0m\u001b[1;33m\u001b[0m\u001b[0m\n\u001b[0m\u001b[0;32m      8\u001b[0m     \u001b[0mprint\u001b[0m\u001b[1;33m(\u001b[0m\u001b[1;34m'List Element'\u001b[0m\u001b[1;33m,\u001b[0m\u001b[0melem\u001b[0m\u001b[1;33m,\u001b[0m \u001b[1;34m'='\u001b[0m\u001b[1;33m,\u001b[0m\u001b[0mchars\u001b[0m\u001b[1;33m[\u001b[0m\u001b[0melem\u001b[0m\u001b[1;33m]\u001b[0m\u001b[1;33m)\u001b[0m\u001b[1;33m\u001b[0m\u001b[1;33m\u001b[0m\u001b[0m\n\u001b[0;32m      9\u001b[0m \u001b[1;33m\u001b[0m\u001b[0m\n",
      "\u001b[1;31mAssertionError\u001b[0m: Argument Must be Integer!"
     ]
    }
   ],
   "source": [
    "# Debugging asserteions\n",
    "\n",
    "chars = ['Alpah','Beta','Gamma','Delta','Epsilon']\n",
    "\n",
    "def display(elem) :\n",
    "    \n",
    "    assert type(elem) is int, 'Argument Must be Integer!'\n",
    "    print('List Element',elem, '=',chars[elem])\n",
    "    \n",
    "elem = 4\n",
    "display(elem)\n",
    "\n",
    "elem = 4//4\n",
    "display(elem)\n",
    "\n",
    "\n",
    "elem = elem/2\n",
    "display(elem)"
   ]
  },
  {
   "cell_type": "code",
   "execution_count": null,
   "id": "e19fcc40",
   "metadata": {},
   "outputs": [],
   "source": []
  }
 ],
 "metadata": {
  "kernelspec": {
   "display_name": "Python 3 (ipykernel)",
   "language": "python",
   "name": "python3"
  },
  "language_info": {
   "codemirror_mode": {
    "name": "ipython",
    "version": 3
   },
   "file_extension": ".py",
   "mimetype": "text/x-python",
   "name": "python",
   "nbconvert_exporter": "python",
   "pygments_lexer": "ipython3",
   "version": "3.9.7"
  }
 },
 "nbformat": 4,
 "nbformat_minor": 5
}
