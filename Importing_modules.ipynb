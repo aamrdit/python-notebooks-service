{
 "cells": [
  {
   "cell_type": "code",
   "execution_count": 1,
   "id": "21240e04",
   "metadata": {},
   "outputs": [
    {
     "name": "stdout",
     "output_type": "stream",
     "text": [
      "A Cat Says MEOW!\n",
      "A Cat Drink Milk\n",
      "A Cat Sleeps By The Fire\n"
     ]
    }
   ],
   "source": [
    "# Storing functions\n",
    "\n",
    "import cat\n",
    "\n",
    "\n",
    "cat.purr()\n",
    "cat.lick()\n",
    "cat.nap()"
   ]
  },
  {
   "cell_type": "code",
   "execution_count": 2,
   "id": "590dfcae",
   "metadata": {},
   "outputs": [
    {
     "name": "stdout",
     "output_type": "stream",
     "text": [
      "Kitty Says MEOW!\n",
      "Kitty Drink Milk\n",
      "Kitty Sleeps By The Fire\n"
     ]
    }
   ],
   "source": [
    "cat.purr('Kitty')\n",
    "cat.lick('Kitty')\n",
    "cat.nap('Kitty')"
   ]
  },
  {
   "cell_type": "code",
   "execution_count": 3,
   "id": "f746006b",
   "metadata": {},
   "outputs": [
    {
     "name": "stdout",
     "output_type": "stream",
     "text": [
      "Enter A Pet Name:Rosemarry\n",
      "Rosemarry Says MEOW!\n",
      "Rosemarry Drink Milk\n",
      "Rosemarry Sleeps By The Fire\n"
     ]
    }
   ],
   "source": [
    "pet = input('Enter A Pet Name:')\n",
    "\n",
    "cat.purr(pet)\n",
    "cat.lick(pet)\n",
    "cat.nap(pet)"
   ]
  },
  {
   "cell_type": "code",
   "execution_count": 7,
   "id": "6bc72114",
   "metadata": {},
   "outputs": [],
   "source": [
    "from dog import bark, lick, nap\n"
   ]
  },
  {
   "cell_type": "code",
   "execution_count": 8,
   "id": "f90453be",
   "metadata": {},
   "outputs": [
    {
     "name": "stdout",
     "output_type": "stream",
     "text": [
      "A Dog Says WOOF!\n",
      "A Dog Drinks water\n",
      "A Dog Sleeps in the Sun\n"
     ]
    }
   ],
   "source": [
    "bark()\n",
    "lick()\n",
    "nap()"
   ]
  },
  {
   "cell_type": "code",
   "execution_count": 9,
   "id": "55876afa",
   "metadata": {},
   "outputs": [
    {
     "name": "stdout",
     "output_type": "stream",
     "text": [
      "Pooch Says WOOF!\n",
      "Pooch Drinks water\n",
      "Pooch Sleeps in the Sun\n"
     ]
    }
   ],
   "source": [
    "bark('Pooch')\n",
    "lick('Pooch')\n",
    "nap('Pooch')"
   ]
  },
  {
   "cell_type": "code",
   "execution_count": 10,
   "id": "da4ced8b",
   "metadata": {},
   "outputs": [],
   "source": [
    "from dog import *\n",
    "\n"
   ]
  },
  {
   "cell_type": "code",
   "execution_count": 11,
   "id": "083de109",
   "metadata": {},
   "outputs": [
    {
     "name": "stdout",
     "output_type": "stream",
     "text": [
      "Enter A Pet Name: Buxy\n",
      "Buxy Says WOOF!\n",
      "Buxy Drinks water\n",
      "Buxy Sleeps in the Sun\n"
     ]
    }
   ],
   "source": [
    "pet = input('Enter A Pet Name: ')\n",
    "\n",
    "bark(pet)\n",
    "lick(pet)\n",
    "nap(pet)"
   ]
  },
  {
   "cell_type": "code",
   "execution_count": 18,
   "id": "1d540e6f",
   "metadata": {},
   "outputs": [
    {
     "name": "stdout",
     "output_type": "stream",
     "text": [
      "Python Version: 3.9.7 (default, Sep 16 2021, 16:59:28) [MSC v.1916 64 bit (AMD64)]\n",
      "Python Interpreter Location: C:\\Users\\aamir\\anaconda3\\python.exe\n",
      "Python Module Search Path: \n",
      "C:\\Users\\aamir\\OneDrive\\Documents\\MyScripts\\python-notebooks-service\n",
      "C:\\Users\\aamir\\anaconda3\\python39.zip\n",
      "C:\\Users\\aamir\\anaconda3\\DLLs\n",
      "C:\\Users\\aamir\\anaconda3\\lib\n",
      "C:\\Users\\aamir\\anaconda3\n",
      "\n",
      "C:\\Users\\aamir\\anaconda3\\lib\\site-packages\n",
      "C:\\Users\\aamir\\anaconda3\\lib\\site-packages\\locket-0.2.1-py3.9.egg\n",
      "C:\\Users\\aamir\\anaconda3\\lib\\site-packages\\win32\n",
      "C:\\Users\\aamir\\anaconda3\\lib\\site-packages\\win32\\lib\n",
      "C:\\Users\\aamir\\anaconda3\\lib\\site-packages\\Pythonwin\n",
      "C:\\Users\\aamir\\anaconda3\\lib\\site-packages\\IPython\\extensions\n",
      "C:\\Users\\aamir\\.ipython\n",
      "Python Keywords: \n",
      "False\n",
      "None\n",
      "True\n",
      "__peg_parser__\n",
      "and\n",
      "as\n",
      "assert\n",
      "async\n",
      "await\n",
      "break\n",
      "class\n",
      "continue\n",
      "def\n",
      "del\n",
      "elif\n",
      "else\n",
      "except\n",
      "finally\n",
      "for\n",
      "from\n",
      "global\n",
      "if\n",
      "import\n",
      "in\n",
      "is\n",
      "lambda\n",
      "nonlocal\n",
      "not\n",
      "or\n",
      "pass\n",
      "raise\n",
      "return\n",
      "try\n",
      "while\n",
      "with\n",
      "yield\n"
     ]
    }
   ],
   "source": [
    "# Interrogating the system\n",
    "\n",
    "\n",
    "import sys, keyword\n",
    "\n",
    "\n",
    "print('Python Version:', sys.version)\n",
    "print('Python Interpreter Location:', sys.executable)\n",
    "\n",
    "print('Python Module Search Path: ')\n",
    "\n",
    "for dir in sys.path :\n",
    "    print(dir)\n",
    "    \n",
    "print('Python Keywords: ') \n",
    "for word in keyword.kwlist :\n",
    "    print(word)"
   ]
  },
  {
   "cell_type": "code",
   "execution_count": 24,
   "id": "7281684b",
   "metadata": {},
   "outputs": [
    {
     "name": "stdout",
     "output_type": "stream",
     "text": [
      "Rounded Up 9.5: 10\n",
      "Rounded Down 9.5: 9\n",
      "4 Squared: 16.0\n",
      "4 Square Root: 2.0\n",
      "Your Lucky Lotto Numbers Are: [43, 19, 15, 44, 25, 3]\n"
     ]
    }
   ],
   "source": [
    "# Performing mathematics\n",
    "\n",
    "import math, random\n",
    "\n",
    "print('Rounded Up 9.5:', math.ceil(9.5))\n",
    "print('Rounded Down 9.5:',math.floor(9.5))\n",
    "\n",
    "num = 4\n",
    "\n",
    "print(num, 'Squared:', math.pow(num,2))\n",
    "print(num, 'Square Root:', math.sqrt(num))\n",
    "\n",
    "nums = random.sample(range(1,59),6)\n",
    "\n",
    "print('Your Lucky Lotto Numbers Are:', nums)"
   ]
  },
  {
   "cell_type": "code",
   "execution_count": 30,
   "id": "c38331b2",
   "metadata": {},
   "outputs": [
    {
     "name": "stdout",
     "output_type": "stream",
     "text": [
      "Item:\t 0.70\n",
      "Tax:\t 0.73\n",
      "Total:\t 1.43\n"
     ]
    }
   ],
   "source": [
    "# Calculating decimals\n",
    "\n",
    "#item = 0.70\n",
    "#rate = 1.05\n",
    "\n",
    "from decimal import *\n",
    "\n",
    "item = Decimal(0.70)\n",
    "rate = Decimal(1.05)\n",
    "\n",
    "tax = item * rate\n",
    "total = item + tax\n",
    "\n",
    "print('Item:\\t', '%.2f'%item)\n",
    "print('Tax:\\t', '%.2f'%tax)\n",
    "print('Total:\\t', '%.2f'%total)\n",
    "\n",
    "#print('Item:\\t', '%.20f'%item)\n",
    "#print('Tax:\\t', '%.20f'%tax)\n",
    "#print('Total:\\t', '%.20f'%total)"
   ]
  },
  {
   "cell_type": "code",
   "execution_count": 34,
   "id": "efe6b0a7",
   "metadata": {},
   "outputs": [
    {
     "name": "stdout",
     "output_type": "stream",
     "text": [
      "Today Is: 2022-06-22 00:50:18.930100\n",
      "year :\t 2022\n",
      "month :\t 6\n",
      "day :\t 22\n",
      "hour :\t 0\n",
      "minute :\t 50\n",
      "second :\t 18\n",
      "microsecond :\t 930100\n",
      "Time:0:50\n",
      "Date: Wednesday June 22\n"
     ]
    }
   ],
   "source": [
    "# Telling the time\n",
    "\n",
    "from datetime import *\n",
    "\n",
    "today = datetime.today()\n",
    "print('Today Is:',today)\n",
    "\n",
    "for attr in ['year','month','day','hour','minute','second','microsecond'] :\n",
    "    print(attr, ':\\t', getattr(today,attr))\n",
    "\n",
    "    \n",
    "print('Time:', today.hour, ':',today.minute, sep='')\n",
    "\n",
    "day = today.strftime('%A')\n",
    "month = today.strftime('%B')\n",
    "\n",
    "print('Date:', day,month,today.day)"
   ]
  },
  {
   "cell_type": "code",
   "execution_count": 37,
   "id": "c5a7f2d5",
   "metadata": {},
   "outputs": [
    {
     "name": "stdout",
     "output_type": "stream",
     "text": [
      "\n",
      "Starting Countdown At: 00:55:29\n",
      "10\n",
      "9\n",
      "8\n",
      "7\n",
      "6\n",
      "5\n",
      "4\n",
      "3\n",
      "2\n",
      "1\n",
      "0\n",
      "\n",
      "Runtime: 11 Seconds\n"
     ]
    }
   ],
   "source": [
    "# Running timer\n",
    "\n",
    "\n",
    "from time import *\n",
    "\n",
    "start_timer = time()\n",
    "\n",
    "struct = localtime(start_timer)\n",
    "\n",
    "print('\\nStarting Countdown At:', strftime('%X',struct))\n",
    "\n",
    "i = 10\n",
    "while i > -1 :\n",
    "    print(i)\n",
    "    i -= 1\n",
    "    sleep(1)\n",
    "    \n",
    "end_timer = time()\n",
    "\n",
    "\n",
    "difference = round(end_timer - start_timer)\n",
    "\n",
    "print('\\nRuntime:', difference, 'Seconds')"
   ]
  },
  {
   "cell_type": "code",
   "execution_count": 42,
   "id": "838e8ff1",
   "metadata": {},
   "outputs": [],
   "source": [
    "# Mathching pattern\n",
    "\n",
    "from re import *\n",
    "\n",
    "pattern = compile('(^|\\s[-a-z0-9_.]+@([-a-z0-9]+\\.)+[a-z]{2,6}(\\s|$))')\n",
    "\n",
    "def get_address() :\n",
    "    address = input('Enter your Email Address:')\n",
    "    is_valid = pattern.match(address)\n",
    "    \n",
    "    if is_valid :\n",
    "        print(*'Valid Address:', is_valid.group())\n",
    "    else:\n",
    "        print('Invalid Address:',)\n",
    "    \n",
    "    \n",
    "\n"
   ]
  },
  {
   "cell_type": "code",
   "execution_count": null,
   "id": "847a41a1",
   "metadata": {},
   "outputs": [],
   "source": []
  }
 ],
 "metadata": {
  "kernelspec": {
   "display_name": "Python 3 (ipykernel)",
   "language": "python",
   "name": "python3"
  },
  "language_info": {
   "codemirror_mode": {
    "name": "ipython",
    "version": 3
   },
   "file_extension": ".py",
   "mimetype": "text/x-python",
   "name": "python",
   "nbconvert_exporter": "python",
   "pygments_lexer": "ipython3",
   "version": "3.9.7"
  }
 },
 "nbformat": 4,
 "nbformat_minor": 5
}
