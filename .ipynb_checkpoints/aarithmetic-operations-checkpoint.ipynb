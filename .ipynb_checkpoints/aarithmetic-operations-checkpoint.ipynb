{
 "cells": [
  {
   "cell_type": "code",
   "execution_count": 13,
   "id": "254ee192",
   "metadata": {},
   "outputs": [
    {
     "name": "stdout",
     "output_type": "stream",
     "text": [
      "Addition:\t 8 + 2 = 10\n",
      "Subtraction:\t 8 - 2 = 6\n",
      "Multiplication:\t 8 * 2 = 16\n",
      "Division:\t 8 ÷ 2 = 4.0\n",
      "Floor Division:\t 8 ÷ 2 = 4\n",
      "Modulos:\t 8 % 2 = 0\n",
      "Exponent:\t8²=64\n"
     ]
    }
   ],
   "source": [
    "# Variables assignment\n",
    "\n",
    "num1 = 8\n",
    "num2 = 2\n",
    "\n",
    "# Arithmetic Operations\n",
    "\n",
    "print('Addition:\\t', num1, '+', num2, '=', num1 + num2)\n",
    "print('Subtraction:\\t',num1, '-', num2, '=', num1 - num2)\n",
    "print('Multiplication:\\t', num1, '*', num2,'=', num1 * num2)\n",
    "print('Division:\\t', num1, '÷', num2, '=', num1 / num2)\n",
    "print('Floor Division:\\t', num1, '÷', num2, '=', num1 // num2)\n",
    "print('Modulos:\\t', num1, '%', num2, '=', num1%num2)\n",
    "print('Exponent:\\t', num1,'²=', num1**num2, sep='')"
   ]
  },
  {
   "cell_type": "code",
   "execution_count": 15,
   "id": "74358c7a",
   "metadata": {},
   "outputs": [
    {
     "name": "stdout",
     "output_type": "stream",
     "text": [
      "Assign Values:\t\t numa = 8 \tnumb = 4\n",
      "Add & Assign:\t\t numa = 12 (8 + 4)\n",
      "Subtract & Assign:\t numa = 8 (12 - 4)\n",
      "Multiply & Assign:\t numa = 32 (8 * 4)\n",
      "Divide & Assign:\t numa = 8.0 (32 ÷ 4)\n",
      "Modulo & Assign:\t numa = 0.0 (8 % 4)\n"
     ]
    }
   ],
   "source": [
    "# Assigning values\n",
    "\n",
    "numa = 8\n",
    "numb = 4\n",
    "\n",
    "print('Assign Values:\\t\\t','numa =',numa, '\\tnumb =', numb)\n",
    "\n",
    "numa += numb\n",
    "print('Add & Assign:\\t\\t', 'numa =', numa, '(8 + 4)')\n",
    "\n",
    "numa -= numb\n",
    "print('Subtract & Assign:\\t', 'numa =', numa, '(12 - 4)')\n",
    "\n",
    "numa *= numb\n",
    "print('Multiply & Assign:\\t', 'numa =', numa, '(8 * 4)' )\n",
    "\n",
    "numa /= numb\n",
    "print('Divide & Assign:\\t', 'numa =', numa, '(32 ÷ 4)')\n",
    "\n",
    "numa %= numb\n",
    "print('Modulo & Assign:\\t', 'numa =', numa, '(8 % 4)')"
   ]
  },
  {
   "cell_type": "code",
   "execution_count": 24,
   "id": "156532ba",
   "metadata": {},
   "outputs": [
    {
     "name": "stdout",
     "output_type": "stream",
     "text": [
      "Equality :\t 0 == 0 True\n",
      "Equality :\t A == a False\n",
      "Inequaity :\t 0 != 1 True\n",
      "Greater :\t 0 > 1 False\n",
      "Lesser :\t 0 < 1 True\n",
      "More or Equal :\t 0 >= 0 True\n",
      "Less or Equal :\t 1 <= 0 False\n"
     ]
    }
   ],
   "source": [
    "# Comparing Values\n",
    "\n",
    "nil = 0\n",
    "num = 0\n",
    "max = 1\n",
    "cap = 'A'\n",
    "low = 'a'\n",
    "\n",
    "\n",
    "print('Equality :\\t', nil, '==', num, nil == num)\n",
    "print('Equality :\\t', cap, '==', low, cap == low)\n",
    "\n",
    "print('Inequaity :\\t', nil, '!=', max, nil != max)\n",
    "\n",
    "print('Greater :\\t', nil, '>', max, nil > max)\n",
    "print('Lesser :\\t', nil, '<', max, nil < max)\n",
    "\n",
    "print('More or Equal :\\t', nil, '>=', num, nil >= num)\n",
    "print('Less or Equal :\\t', max, '<=', num, max <= num)"
   ]
  },
  {
   "cell_type": "code",
   "execution_count": 32,
   "id": "8c171058",
   "metadata": {},
   "outputs": [
    {
     "name": "stdout",
     "output_type": "stream",
     "text": [
      "AND  Logic:\n",
      "gatea and gatea = True\n",
      "gatea and gateb = False\n",
      "gateb and gateb = False\n",
      "OR Logic:\n",
      "gatea or gatea = True\n",
      "gatea or gateb = True\n",
      "gateb or gateb = False\n",
      "NOT Logic:\n",
      "gatea = True \tnot gatea False\n",
      "gateb = False \tnot gateb True\n"
     ]
    }
   ],
   "source": [
    "# Assessing logic\n",
    "\n",
    "gatea = True\n",
    "gateb = False\n",
    "\n",
    "\n",
    "print('AND  Logic:')\n",
    "print('gatea and gatea =', gatea and gatea)\n",
    "print('gatea and gateb =', gatea and gateb)\n",
    "print('gateb and gateb =', gateb and gateb)\n",
    "\n",
    "print('OR Logic:')\n",
    "print('gatea or gatea =', gatea or gatea)\n",
    "print('gatea or gateb =', gatea or gateb)\n",
    "print('gateb or gateb =', gateb or gateb)\n",
    "\n",
    "print('NOT Logic:')\n",
    "print('gatea =', gatea, '\\tnot gatea', not gatea)\n",
    "print('gateb =', gateb, '\\tnot gateb', not gateb)"
   ]
  },
  {
   "cell_type": "code",
   "execution_count": 37,
   "id": "8e562a4f",
   "metadata": {},
   "outputs": [
    {
     "name": "stdout",
     "output_type": "stream",
     "text": [
      "\n",
      "Variable numa Is : One\n",
      "Variable numa Is : Odd\n",
      "\n",
      "Variable numb Is : Not One\n",
      "Variable numb Is :Even\n",
      "\n",
      "Greater Value Is: 2\n"
     ]
    }
   ],
   "source": [
    "# Examining conditions\n",
    "\n",
    "numa = 1\n",
    "numb = 2\n",
    "\n",
    "print('\\nVariable numa Is :', 'One' if (numa == 1) else 'Not One')\n",
    "print('Variable numa Is :', 'Even' if(numa % 2 == 0) else 'Odd')\n",
    "\n",
    "print('\\nVariable numb Is :', 'One' if (numb == 1) else 'Not One')\n",
    "print('Variable numb Is :' 'Even' if(numb % 2 == 0) else 'Odd')\n",
    "\n",
    "max = numa if (numa > numb) else numb\n",
    "print('\\nGreater Value Is:', max)"
   ]
  },
  {
   "cell_type": "code",
   "execution_count": null,
   "id": "08bcfd65",
   "metadata": {},
   "outputs": [],
   "source": []
  }
 ],
 "metadata": {
  "kernelspec": {
   "display_name": "Python 3 (ipykernel)",
   "language": "python",
   "name": "python3"
  },
  "language_info": {
   "codemirror_mode": {
    "name": "ipython",
    "version": 3
   },
   "file_extension": ".py",
   "mimetype": "text/x-python",
   "name": "python",
   "nbconvert_exporter": "python",
   "pygments_lexer": "ipython3",
   "version": "3.9.7"
  }
 },
 "nbformat": 4,
 "nbformat_minor": 5
}
