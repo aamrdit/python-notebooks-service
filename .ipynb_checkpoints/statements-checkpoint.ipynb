{
 "cells": [
  {
   "cell_type": "code",
   "execution_count": 2,
   "id": "af46a038",
   "metadata": {},
   "outputs": [
    {
     "name": "stdout",
     "output_type": "stream",
     "text": [
      "First Month : January\n",
      "Second Month : February\n",
      "Third Month March\n"
     ]
    }
   ],
   "source": [
    "# Writing lists\n",
    "\n",
    "quarter = ['January','February','March']\n",
    "\n",
    "\n",
    "print('First Month :', quarter[0])\n",
    "print('Second Month :', quarter[1])\n",
    "print('Third Month', quarter[2])"
   ]
  },
  {
   "cell_type": "code",
   "execution_count": 4,
   "id": "37b2f235",
   "metadata": {},
   "outputs": [
    {
     "name": "stdout",
     "output_type": "stream",
     "text": [
      "\n",
      "Top Left 0,0 : 1\n",
      "Bottom Right 1,2 : 6\n"
     ]
    }
   ],
   "source": [
    "coords = [[1,2,3],[4,5,6]]\n",
    "\n",
    "print('\\nTop Left 0,0 :', coords[0][0])\n",
    "print('Bottom Right 1,2 :', coords[1][2])"
   ]
  },
  {
   "cell_type": "code",
   "execution_count": 5,
   "id": "627b86cc",
   "metadata": {},
   "outputs": [
    {
     "name": "stdout",
     "output_type": "stream",
     "text": [
      "\n",
      "Second Month First Letter F\n"
     ]
    }
   ],
   "source": [
    "print('\\nSecond Month First Letter', quarter[1][0])"
   ]
  },
  {
   "cell_type": "code",
   "execution_count": null,
   "id": "9100fc51",
   "metadata": {},
   "outputs": [],
   "source": []
  }
 ],
 "metadata": {
  "kernelspec": {
   "display_name": "Python 3 (ipykernel)",
   "language": "python",
   "name": "python3"
  },
  "language_info": {
   "codemirror_mode": {
    "name": "ipython",
    "version": 3
   },
   "file_extension": ".py",
   "mimetype": "text/x-python",
   "name": "python",
   "nbconvert_exporter": "python",
   "pygments_lexer": "ipython3",
   "version": "3.9.7"
  }
 },
 "nbformat": 4,
 "nbformat_minor": 5
}
