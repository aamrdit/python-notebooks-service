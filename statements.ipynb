{
 "cells": [
  {
   "cell_type": "code",
   "execution_count": 1,
   "id": "af46a038",
   "metadata": {},
   "outputs": [
    {
     "name": "stdout",
     "output_type": "stream",
     "text": [
      "First Month : January\n",
      "Second Month : February\n",
      "Third Month March\n"
     ]
    }
   ],
   "source": [
    "# Writing lists\n",
    "\n",
    "quarter = ['January','February','March']\n",
    "\n",
    "\n",
    "print('First Month :', quarter[0])\n",
    "print('Second Month :', quarter[1])\n",
    "print('Third Month', quarter[2])"
   ]
  },
  {
   "cell_type": "code",
   "execution_count": null,
   "id": "37b2f235",
   "metadata": {},
   "outputs": [],
   "source": [
    "coords = [[1,2,3],[4,5,6]]\n",
    "\n",
    "print('\\nTop Left 0,0 :', coords[0][0])\n",
    "print('Bottom Right 1,2 :', coords[1][2])"
   ]
  },
  {
   "cell_type": "code",
   "execution_count": null,
   "id": "627b86cc",
   "metadata": {},
   "outputs": [],
   "source": [
    "print('\\nSecond Month First Letter', quarter[1][0])"
   ]
  },
  {
   "cell_type": "code",
   "execution_count": 8,
   "id": "9100fc51",
   "metadata": {},
   "outputs": [
    {
     "name": "stdout",
     "output_type": "stream",
     "text": [
      "Basket List: ['Apple', 'Bun', 'Cola']\n",
      "Basket Elements: 3\n",
      "Appended: ['Apple', 'Bun', 'Cola', 'Damson']\n",
      "Last Item Removed: Damson\n",
      "Basket List: ['Apple', 'Bun', 'Cola']\n",
      "Extended: ['Apple', 'Bun', 'Cola', 'Egg', 'Fig', 'Grape']\n",
      "Item Removed: ['Apple', 'Cola', 'Egg', 'Fig', 'Grape']\n",
      "Slice Removed: ['Apple', 'Fig', 'Grape']\n"
     ]
    }
   ],
   "source": [
    "# Manipulating lists\n",
    "\n",
    "basket = ['Apple','Bun','Cola']\n",
    "crate = ['Egg', 'Fig', 'Grape']\n",
    "\n",
    "print('Basket List:', basket)\n",
    "print('Basket Elements:', len(basket))\n",
    "\n",
    "basket.append('Damson')\n",
    "print('Appended:',basket)\n",
    "print('Last Item Removed:', basket.pop())\n",
    "print('Basket List:', basket)\n",
    "\n",
    "basket.extend(crate)\n",
    "print('Extended:', basket)\n",
    "del basket[1]\n",
    "print('Item Removed:', basket)\n",
    "del basket[1:3]\n",
    "print('Slice Removed:', basket)"
   ]
  },
  {
   "cell_type": "code",
   "execution_count": 12,
   "id": "b67a74c4",
   "metadata": {},
   "outputs": [
    {
     "name": "stdout",
     "output_type": "stream",
     "text": [
      "Tuple: ('Kangaroo', 'Leopard', 'Moose') \tLength: 3\n",
      "<class 'tuple'>\n",
      "\n",
      "Set: {'Blue', 'Green', 'Yellow', 'Red'} \tLength: 4\n",
      "<class 'set'>\n",
      "\n",
      "Is Green in bag Set: True\n",
      "Is Orange in bag Set: False\n",
      "\n",
      "Set: {'Purple', 'Yellow', 'Red'} \tLength: 3\n",
      "Common To Both Sets: {'Red', 'Yellow'}\n"
     ]
    }
   ],
   "source": [
    "# Restricting lists\n",
    "\n",
    "zoo = ('Kangaroo', 'Leopard', 'Moose')\n",
    "print('Tuple:', zoo, '\\tLength:', len(zoo))\n",
    "print(type(zoo))\n",
    "\n",
    "bag = {'Red','Green','Blue'}\n",
    "bag.add('Yellow')\n",
    "print('\\nSet:', bag, '\\tLength:', len(bag))\n",
    "print(type(bag))\n",
    "\n",
    "print('\\nIs Green in bag Set:', 'Green' in bag)\n",
    "print('Is Orange in bag Set:', 'Orange' in bag)\n",
    "\n",
    "box = {'Red','Purple','Yellow'}\n",
    "print('\\nSet:', box, '\\tLength:',len(box))\n",
    "print('Common To Both Sets:', bag.intersection(box))"
   ]
  },
  {
   "cell_type": "code",
   "execution_count": 17,
   "id": "b987a903",
   "metadata": {},
   "outputs": [
    {
     "name": "stdout",
     "output_type": "stream",
     "text": [
      "\n",
      "Dictionary: {'name': 'Bob', 'sys': 'Win', 'lang': 'Python'}\n",
      "\n",
      "Language: Python\n",
      "\n",
      "Keys: dict_keys(['name', 'sys', 'lang'])\n",
      "\n",
      "Dictionary: {'sys': 'Win', 'lang': 'Python', 'user': 'Aamir'}\n",
      "\n",
      "Is there A name key?: False\n"
     ]
    }
   ],
   "source": [
    "# Associating list elements\n",
    "\n",
    "userSys = {'name':'Bob', 'sys':'Win'}\n",
    "userLang = {'name':'Bob','lang':'Python'}\n",
    "\n",
    "#merge it\n",
    "\n",
    "dict = userSys | userLang\n",
    "print('\\nDictionary:', dict)\n",
    "\n",
    "print('\\nLanguage:',dict['lang'])\n",
    "\n",
    "\n",
    "print('\\nKeys:', dict.keys())\n",
    "\n",
    "del dict['name']\n",
    "dict['user'] = 'Aamir'\n",
    "print('\\nDictionary:', dict)\n",
    "\n",
    "print('\\nIs there A name key?:', 'name' in dict)"
   ]
  },
  {
   "cell_type": "code",
   "execution_count": 1,
   "id": "9fa26d4f",
   "metadata": {},
   "outputs": [
    {
     "name": "stdout",
     "output_type": "stream",
     "text": [
      "Please Enter A Number:6\n",
      "Number Exceeds 5\n",
      "\n"
     ]
    }
   ],
   "source": [
    "# Branchig with if\n",
    "\n",
    "num = int(input('Please Enter A Number:'))\n",
    "\n",
    "if num > 5 :\n",
    "    print('Number Exceeds 5\\n')\n",
    "elif num < 5 :\n",
    "    print('Number is Less than 5\\n')\n",
    "else :\n",
    "    print('Number is 5')"
   ]
  },
  {
   "cell_type": "markdown",
   "id": "fe5dff60",
   "metadata": {},
   "source": []
  },
  {
   "cell_type": "code",
   "execution_count": null,
   "id": "37dace60",
   "metadata": {},
   "outputs": [],
   "source": [
    "cmd = input('Enter STOP or GO:').upper()\n",
    "match cmd :\n",
    "        case 'GO' : \n",
    "            print('Started..') \n",
    "        case 'STOP' :\n",
    "            print('Halted')\n"
   ]
  },
  {
   "cell_type": "code",
   "execution_count": 11,
   "id": "ed60cbef",
   "metadata": {},
   "outputs": [
    {
     "ename": "SyntaxError",
     "evalue": "invalid syntax (Temp/ipykernel_12452/974510373.py, line 1)",
     "output_type": "error",
     "traceback": [
      "\u001b[1;36m  File \u001b[1;32m\"C:\\Users\\aamir\\AppData\\Local\\Temp/ipykernel_12452/974510373.py\"\u001b[1;36m, line \u001b[1;32m1\u001b[0m\n\u001b[1;33m    match cmd :\u001b[0m\n\u001b[1;37m          ^\u001b[0m\n\u001b[1;31mSyntaxError\u001b[0m\u001b[1;31m:\u001b[0m invalid syntax\n"
     ]
    }
   ],
   "source": []
  },
  {
   "cell_type": "code",
   "execution_count": 10,
   "id": "978dc2e0",
   "metadata": {},
   "outputs": [
    {
     "ename": "SyntaxError",
     "evalue": "invalid syntax (Temp/ipykernel_12452/1604845596.py, line 3)",
     "output_type": "error",
     "traceback": [
      "\u001b[1;36m  File \u001b[1;32m\"C:\\Users\\aamir\\AppData\\Local\\Temp/ipykernel_12452/1604845596.py\"\u001b[1;36m, line \u001b[1;32m3\u001b[0m\n\u001b[1;33m    match response_code:\u001b[0m\n\u001b[1;37m          ^\u001b[0m\n\u001b[1;31mSyntaxError\u001b[0m\u001b[1;31m:\u001b[0m invalid syntax\n"
     ]
    }
   ],
   "source": [
    "response_code = 400\n",
    "\n",
    "match response_code:\n",
    "    case 200:\n",
    "        print(\"Everything's peachy!\")\n",
    "    case 300:\n",
    "        print(\"You're going somewhere else!\")\n",
    "    case 400:\n",
    "        print(\"Uh oh. Are you lost?\")\n",
    "    case 500:\n",
    "        print(\"Yikes. Something went wrong!\")"
   ]
  },
  {
   "cell_type": "code",
   "execution_count": 4,
   "id": "44483a40",
   "metadata": {},
   "outputs": [
    {
     "name": "stdout",
     "output_type": "stream",
     "text": [
      "\n",
      "Outer Loop Iteration : 1\n",
      "\tInner Loop Iteration: 1\n",
      "\tInner Loop Iteration: 2\n",
      "\tInner Loop Iteration: 3\n",
      "\n",
      "Outer Loop Iteration : 2\n",
      "\tInner Loop Iteration: 1\n",
      "\tInner Loop Iteration: 2\n",
      "\tInner Loop Iteration: 3\n",
      "\n",
      "Outer Loop Iteration : 3\n",
      "\tInner Loop Iteration: 1\n",
      "\tInner Loop Iteration: 2\n",
      "\tInner Loop Iteration: 3\n"
     ]
    }
   ],
   "source": [
    "# looping While\n",
    "\n",
    "i = 1\n",
    "while i < 4 :\n",
    "    print('\\nOuter Loop Iteration :', i)\n",
    "    i += 1\n",
    "    j = 1\n",
    "    while j < 4 :\n",
    "        print('\\tInner Loop Iteration:', j)\n",
    "        j += 1\n",
    "    "
   ]
  },
  {
   "cell_type": "code",
   "execution_count": 35,
   "id": "a12c25cf",
   "metadata": {},
   "outputs": [
    {
     "name": "stdout",
     "output_type": "stream",
     "text": [
      "1\n",
      "2\n",
      "4\n",
      "8\n",
      "16\n",
      "32\n",
      "64\n"
     ]
    }
   ],
   "source": [
    "a = 1\n",
    "b = 1\n",
    "while b < 100 :\n",
    "    print(b)\n",
    "    a = b\n",
    "    b = a + b"
   ]
  },
  {
   "cell_type": "code",
   "execution_count": 25,
   "id": "4274f907",
   "metadata": {},
   "outputs": [
    {
     "name": "stdout",
     "output_type": "stream",
     "text": [
      "A B C \n",
      "Enumerated:\t (0, 'A') (1, 'B') (2, 'C') \n",
      "Zipped:\t ('A', 'Apple') ('B', 'Bannana') ('C', 'Cherry') \n",
      "Paired:\n",
      "name = Mike\n",
      "ref = Python\n",
      "sys = Win\n"
     ]
    }
   ],
   "source": [
    "# looping over items\n",
    "\n",
    "chars = ['A','B','C']\n",
    "fruit = ('Apple','Bannana','Cherry')\n",
    "dict = {'name':'Mike', 'ref':'Python','sys':'Win'}\n",
    "\n",
    "for items in chars :\n",
    "    print(items, end = ' ')\n",
    "    \n",
    "print('\\nEnumerated:\\t', end = ' ')\n",
    "for item in enumerate(chars) :\n",
    "    print(item, end = ' ')\n",
    "    \n",
    "print('\\nZipped:\\t', end = ' ')\n",
    "for item in zip(chars,fruit) :\n",
    "    print(item, end = ' ')\n",
    "    \n",
    "\n",
    "    \n",
    "print('\\nPaired:')\n",
    "for key,value in dict.items() :\n",
    "    print(key, '=', value)"
   ]
  },
  {
   "cell_type": "code",
   "execution_count": 33,
   "id": "acf1f250",
   "metadata": {},
   "outputs": [
    {
     "name": "stdout",
     "output_type": "stream",
     "text": [
      "Running i= 1 = j= 1\n",
      "Continuous Inner Loop at i =1 j=1\n",
      "Running i= 1 = j= 2\n",
      "Running i= 1 = j= 3\n",
      "Running i= 2 = j= 1\n",
      "Breaks inner loop at i=2 j=1\n",
      "Running i= 3 = j= 1\n",
      "Running i= 3 = j= 2\n",
      "Running i= 3 = j= 3\n"
     ]
    }
   ],
   "source": [
    "# Breaking out of loops\n",
    "\n",
    "for i in range(1,4) :\n",
    "    for j in range(1,4) :\n",
    "        print('Running i=',i,'=','j=',j)\n",
    "        if i == 1 and j == 1 :\n",
    "            print('Continuous Inner Loop at i =1 j=1')\n",
    "            continue\n",
    "        if i == 2 and j == 1 :\n",
    "            print('Breaks inner loop at i=2 j=1')\n",
    "            break\n",
    "           "
   ]
  },
  {
   "cell_type": "code",
   "execution_count": null,
   "id": "effd945e",
   "metadata": {},
   "outputs": [],
   "source": []
  }
 ],
 "metadata": {
  "kernelspec": {
   "display_name": "Python 3 (ipykernel)",
   "language": "python",
   "name": "python3"
  },
  "language_info": {
   "codemirror_mode": {
    "name": "ipython",
    "version": 3
   },
   "file_extension": ".py",
   "mimetype": "text/x-python",
   "name": "python",
   "nbconvert_exporter": "python",
   "pygments_lexer": "ipython3",
   "version": "3.9.7"
  }
 },
 "nbformat": 4,
 "nbformat_minor": 5
}
